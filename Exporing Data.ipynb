{
 "cells": [
  {
   "cell_type": "code",
   "execution_count": 1,
   "metadata": {
    "colab": {},
    "colab_type": "code",
    "executionInfo": {
     "elapsed": 809,
     "status": "ok",
     "timestamp": 1594614004184,
     "user": {
      "displayName": "Pakawat Nakwijit",
      "photoUrl": "https://lh3.googleusercontent.com/a-/AOh14Giz1tosO6ue4YIwI_BWdWqU-R0kipZPrUw2DtS0=s64",
      "userId": "14261168557301921642"
     },
     "user_tz": -420
    },
    "id": "bWB2sbMWZoeb"
   },
   "outputs": [
    {
     "ename": "ModuleNotFoundError",
     "evalue": "No module named 'numpy'",
     "output_type": "error",
     "traceback": [
      "\u001b[1;31m---------------------------------------------------------------------------\u001b[0m",
      "\u001b[1;31mModuleNotFoundError\u001b[0m                       Traceback (most recent call last)",
      "Cell \u001b[1;32mIn[1], line 1\u001b[0m\n\u001b[1;32m----> 1\u001b[0m \u001b[38;5;28;01mimport\u001b[39;00m \u001b[38;5;21;01mnumpy\u001b[39;00m \u001b[38;5;28;01mas\u001b[39;00m \u001b[38;5;21;01mnp\u001b[39;00m\n\u001b[0;32m      2\u001b[0m \u001b[38;5;28;01mimport\u001b[39;00m \u001b[38;5;21;01mpandas\u001b[39;00m \u001b[38;5;28;01mas\u001b[39;00m \u001b[38;5;21;01mpd\u001b[39;00m\n\u001b[0;32m      3\u001b[0m \u001b[38;5;28;01mimport\u001b[39;00m \u001b[38;5;21;01mgc\u001b[39;00m\n",
      "\u001b[1;31mModuleNotFoundError\u001b[0m: No module named 'numpy'"
     ]
    }
   ],
   "source": [
    "import numpy as np\n",
    "import pandas as pd\n",
    "import gc\n",
    "\n",
    "import matplotlib.pyplot as plt\n",
    "%matplotlib inline\n",
    "# plt.figure(figsize=(16, 6))\n",
    "\n",
    "import warnings\n",
    "warnings.filterwarnings(\"ignore\")\n"
   ]
  },
  {
   "cell_type": "code",
   "execution_count": null,
   "metadata": {
    "colab": {},
    "colab_type": "code",
    "executionInfo": {
     "elapsed": 789,
     "status": "ok",
     "timestamp": 1594614413687,
     "user": {
      "displayName": "Pakawat Nakwijit",
      "photoUrl": "https://lh3.googleusercontent.com/a-/AOh14Giz1tosO6ue4YIwI_BWdWqU-R0kipZPrUw2DtS0=s64",
      "userId": "14261168557301921642"
     },
     "user_tz": -420
    },
    "id": "Y8fwU74UbNFJ"
   },
   "outputs": [],
   "source": []
  },
  {
   "cell_type": "markdown",
   "metadata": {
    "colab_type": "text",
    "id": "0lfGxnUJaeZa"
   },
   "source": [
    "# Load Data and code"
   ]
  },
  {
   "cell_type": "code",
   "execution_count": 2,
   "metadata": {
    "colab": {
     "base_uri": "https://localhost:8080/",
     "height": 124
    },
    "colab_type": "code",
    "executionInfo": {
     "elapsed": 17438,
     "status": "ok",
     "timestamp": 1594614029421,
     "user": {
      "displayName": "Pakawat Nakwijit",
      "photoUrl": "https://lh3.googleusercontent.com/a-/AOh14Giz1tosO6ue4YIwI_BWdWqU-R0kipZPrUw2DtS0=s64",
      "userId": "14261168557301921642"
     },
     "user_tz": -420
    },
    "id": "4McgR1LsZr92",
    "outputId": "5cf92bde-f3e2-4fdb-a8e6-d94dc9b03c43"
   },
   "outputs": [],
   "source": [
    "# from google.colab import drive\n",
    "# drive.mount('/content/drive')\n",
    "\n"
   ]
  },
  {
   "cell_type": "code",
   "execution_count": 3,
   "metadata": {
    "colab": {
     "base_uri": "https://localhost:8080/",
     "height": 35
    },
    "colab_type": "code",
    "executionInfo": {
     "elapsed": 952,
     "status": "ok",
     "timestamp": 1594614315053,
     "user": {
      "displayName": "Pakawat Nakwijit",
      "photoUrl": "https://lh3.googleusercontent.com/a-/AOh14Giz1tosO6ue4YIwI_BWdWqU-R0kipZPrUw2DtS0=s64",
      "userId": "14261168557301921642"
     },
     "user_tz": -420
    },
    "id": "sYlwr4D5aS1V",
    "outputId": "7ba35ab0-6e14-49ac-b8b0-d183f170ac2d"
   },
   "outputs": [],
   "source": [
    "# cd \"/content/drive/My Drive/continual-learning\""
   ]
  },
  {
   "cell_type": "code",
   "execution_count": 4,
   "metadata": {
    "colab": {
     "base_uri": "https://localhost:8080/",
     "height": 156
    },
    "colab_type": "code",
    "executionInfo": {
     "elapsed": 39648,
     "status": "ok",
     "timestamp": 1594614355985,
     "user": {
      "displayName": "Pakawat Nakwijit",
      "photoUrl": "https://lh3.googleusercontent.com/a-/AOh14Giz1tosO6ue4YIwI_BWdWqU-R0kipZPrUw2DtS0=s64",
      "userId": "14261168557301921642"
     },
     "user_tz": -420
    },
    "id": "4_4BXJ8AZj_K",
    "outputId": "25216560-89aa-491f-9fbf-2a184b43e4f4"
   },
   "outputs": [],
   "source": [
    "# !git clone https://github.com/chameleonTK/continual-learning-for-HAR.git src"
   ]
  },
  {
   "cell_type": "code",
   "execution_count": 5,
   "metadata": {
    "colab": {
     "base_uri": "https://localhost:8080/",
     "height": 35
    },
    "colab_type": "code",
    "executionInfo": {
     "elapsed": 906,
     "status": "ok",
     "timestamp": 1594614366633,
     "user": {
      "displayName": "Pakawat Nakwijit",
      "photoUrl": "https://lh3.googleusercontent.com/a-/AOh14Giz1tosO6ue4YIwI_BWdWqU-R0kipZPrUw2DtS0=s64",
      "userId": "14261168557301921642"
     },
     "user_tz": -420
    },
    "id": "YurP7y59ajzd",
    "outputId": "a555f264-3695-49d4-880f-da6f4e343191"
   },
   "outputs": [],
   "source": [
    "# cd \"src\""
   ]
  },
  {
   "cell_type": "code",
   "execution_count": 6,
   "metadata": {
    "colab": {
     "base_uri": "https://localhost:8080/",
     "height": 609
    },
    "colab_type": "code",
    "executionInfo": {
     "elapsed": 9939,
     "status": "ok",
     "timestamp": 1594614445573,
     "user": {
      "displayName": "Pakawat Nakwijit",
      "photoUrl": "https://lh3.googleusercontent.com/a-/AOh14Giz1tosO6ue4YIwI_BWdWqU-R0kipZPrUw2DtS0=s64",
      "userId": "14261168557301921642"
     },
     "user_tz": -420
    },
    "id": "lIWMnGAlbTQy",
    "outputId": "752706a7-81c4-4388-eb9a-59ef1938ef06"
   },
   "outputs": [],
   "source": [
    "# !pip install visdom"
   ]
  },
  {
   "cell_type": "code",
   "execution_count": 7,
   "metadata": {
    "colab": {},
    "colab_type": "code",
    "executionInfo": {
     "elapsed": 797,
     "status": "ok",
     "timestamp": 1594614448078,
     "user": {
      "displayName": "Pakawat Nakwijit",
      "photoUrl": "https://lh3.googleusercontent.com/a-/AOh14Giz1tosO6ue4YIwI_BWdWqU-R0kipZPrUw2DtS0=s64",
      "userId": "14261168557301921642"
     },
     "user_tz": -420
    },
    "id": "d9DJihWvalP0"
   },
   "outputs": [],
   "source": [
    "#!/usr/bin/env python3\n",
    "import torch\n",
    "import numpy as np\n",
    "from smart_home_dataset import SmartHomeDataset\n",
    "from classifier import Classifier\n",
    "from torch import optim\n",
    "import utils\n",
    "import callbacks as cb\n",
    "import time\n",
    "\n",
    "from generative_replay_learner import GenerativeReplayLearner;\n",
    "import arg_params\n",
    "import json\n",
    "import os\n",
    "import copy\n",
    "\n",
    "import torch.multiprocessing as mp"
   ]
  },
  {
   "cell_type": "markdown",
   "metadata": {
    "colab_type": "text",
    "id": "B_PW3bwMgTmJ"
   },
   "source": [
    "# Get Dataset"
   ]
  },
  {
   "cell_type": "code",
   "execution_count": 8,
   "metadata": {
    "colab": {},
    "colab_type": "code",
    "executionInfo": {
     "elapsed": 882,
     "status": "ok",
     "timestamp": 1594615783841,
     "user": {
      "displayName": "Pakawat Nakwijit",
      "photoUrl": "https://lh3.googleusercontent.com/a-/AOh14Giz1tosO6ue4YIwI_BWdWqU-R0kipZPrUw2DtS0=s64",
      "userId": "14261168557301921642"
     },
     "user_tz": -420
    },
    "id": "UwZYEnkWbhH-"
   },
   "outputs": [],
   "source": [
    "def select_dataset(args, classes=None):\n",
    "    if args.data_dir == \"pamap\":\n",
    "        default_classes = [\n",
    "            'lying', \n",
    "            'sitting', \n",
    "            'standing', \n",
    "            'ironing', \n",
    "            'vacuum cleaning', \n",
    "            'ascending stairs', \n",
    "            'walking', \n",
    "            'descending stairs', \n",
    "            'cycling', \n",
    "            'running'\n",
    "        ]\n",
    "\n",
    "        data_dir = \"./Dataset/PAMAP2/pamap.feat\"\n",
    "\n",
    "    elif args.data_dir == \"dsads\":\n",
    "        default_classes = [\n",
    "            \"sitting\",\n",
    "            \"standing\",\n",
    "            \"lying on back side\",\n",
    "            \"lying on right side\",\n",
    "            \"ascending stairs\",\n",
    "            \"descending stairs\",\n",
    "            \"exercising on a stepper\",\n",
    "            \"rowing\",\n",
    "            \"jumping\",\n",
    "            \"playing basketball\"\n",
    "        ]\n",
    "\n",
    "        data_dir = \"./Dataset/DSADS/dsads.feat\"\n",
    "\n",
    "\n",
    "    elif args.data_dir == \"housea\":\n",
    "        default_classes = ['A0', 'A1', 'A2', 'A3', 'A4', 'A5'] #skip A6\n",
    "        args.tasks = 3\n",
    "        data_dir = \"./Dataset/House/HouseA.feat\"\n",
    "\n",
    "    elif args.data_dir == \"casas\":\n",
    "        default_classes = [\n",
    "            \"R1_work_at_computer\",\n",
    "            \"R2_work_at_computer\",\n",
    "            \"R1_sleep\",\n",
    "            \"R2_sleep\",\n",
    "            \"R1_bed_to_toilet\",\n",
    "            \"R2_bed_to_toilet\",\n",
    "\n",
    "            \"R2_prepare_dinner\",\n",
    "            \"R2_watch_TV\",\n",
    "            \n",
    "            \"R2_prepare_lunch\",\n",
    "            \"R1_work_at_dining_room_table\",\n",
    "        ]\n",
    "        data_dir = \"./Dataset/twor.2009/annotated.feat.ch1\"\n",
    "    else:\n",
    "        raise Exception(\"Unknow dataset\")\n",
    "    \n",
    "    if classes is None:\n",
    "        classes = default_classes\n",
    "        \n",
    "    return SmartHomeDataset(data_dir, classes=classes)"
   ]
  },
  {
   "cell_type": "code",
   "execution_count": null,
   "metadata": {
    "colab": {},
    "colab_type": "code",
    "id": "tKng8jC2gcIj"
   },
   "outputs": [],
   "source": []
  },
  {
   "cell_type": "code",
   "execution_count": 11,
   "metadata": {},
   "outputs": [
    {
     "name": "stdout",
     "output_type": "stream",
     "text": [
      "Dataset name: HouseA\n",
      "Overall (483, 15)\n",
      "===== Smart Home dataset ======\n",
      "  Activity Name  #Train  #Test  Total\n",
      "0            A0      72     72    144\n",
      "1            A1     165    165    330\n",
      "2            A2      50     50    100\n",
      "3            A3      78     78    156\n",
      "4            A4      42     42     84\n",
      "5            A5      76     76    152\n",
      "\n",
      "\n",
      "Dataset name: CASAS\n",
      "Overall (15655, 72)\n",
      "===== Smart Home dataset ======\n",
      "                  Activity Name  #Train  #Test  Total\n",
      "0           R1_work_at_computer    4812   4812   9624\n",
      "1           R2_work_at_computer    1480   1480   2960\n",
      "2                      R1_sleep    2755   2755   5510\n",
      "3                      R2_sleep    2716   2716   5432\n",
      "4              R1_bed_to_toilet     163    163    326\n",
      "5              R2_bed_to_toilet     107    107    214\n",
      "6             R2_prepare_dinner    1184   1184   2368\n",
      "7                   R2_watch_TV    1354   1354   2708\n",
      "8              R2_prepare_lunch     563    563   1126\n",
      "9  R1_work_at_dining_room_table     521    521   1042\n",
      "\n",
      "\n",
      "Dataset name: DSADS\n",
      "Overall (4800, 406)\n",
      "===== Smart Home dataset ======\n",
      "             Activity Name  #Train  #Test  Total\n",
      "0                  sitting     480    480    960\n",
      "1                 standing     480    480    960\n",
      "2       lying on back side     480    480    960\n",
      "3      lying on right side     480    480    960\n",
      "4         ascending stairs     480    480    960\n",
      "5        descending stairs     480    480    960\n",
      "6  exercising on a stepper     480    480    960\n",
      "7                   rowing     480    480    960\n",
      "8                  jumping     480    480    960\n",
      "9       playing basketball     480    480    960\n",
      "\n",
      "\n",
      "Dataset name: PAMAP\n",
      "Overall (6451, 244)\n",
      "===== Smart Home dataset ======\n",
      "       Activity Name  #Train  #Test  Total\n",
      "0              lying     740    740   1480\n",
      "1            sitting     710    710   1420\n",
      "2           standing     727    727   1454\n",
      "3            ironing     917    917   1834\n",
      "4    vacuum cleaning     673    673   1346\n",
      "5   ascending stairs     434    434    868\n",
      "6            walking     886    886   1772\n",
      "7  descending stairs     384    384    768\n",
      "8            cycling     628    628   1256\n",
      "9            running     352    352    704\n",
      "\n",
      "\n"
     ]
    }
   ],
   "source": [
    "datasets_info = [\"HouseA\", \"CASAS\", \"DSADS\", \"PAMAP\",]\n",
    "def nothing(x):\n",
    "    return x\n",
    "\n",
    "for name in datasets_info:\n",
    "    \n",
    "    params = {\n",
    "        \"--results-dir\": f\"./Results/{name}/\",\n",
    "        \"--data-dir\": name.lower(),\n",
    "        \"--task-order\": f\"./Results/{name}/task_orders.txt\",\n",
    "    }\n",
    "\n",
    "    p = [f\"{k} {params[k]}\" for k in params]\n",
    "    p = \" \".join(p)\n",
    "\n",
    "    parser = arg_params.get_parser()\n",
    "    args = parser.parse_args(p.split())\n",
    "\n",
    "    d = select_dataset(args)\n",
    "    \n",
    "    d.set_target_tranform(nothing)\n",
    "    print(\"Dataset name:\", name)\n",
    "    print(\"Overall\", d.pddata.shape)\n",
    "    SmartHomeDataset.detail(d.classes, [d], [d])\n",
    "    \n",
    "    print(\"\\n\")"
   ]
  },
  {
   "cell_type": "code",
   "execution_count": null,
   "metadata": {},
   "outputs": [],
   "source": []
  },
  {
   "cell_type": "code",
   "execution_count": null,
   "metadata": {},
   "outputs": [],
   "source": []
  }
 ],
 "metadata": {
  "colab": {
   "authorship_tag": "ABX9TyOCueBBti88Y2a4yZRaiRyp",
   "name": "Run CL Experiment.ipynb",
   "provenance": []
  },
  "kernelspec": {
   "display_name": "Python 3",
   "language": "python",
   "name": "python3"
  },
  "language_info": {
   "codemirror_mode": {
    "name": "ipython",
    "version": 3
   },
   "file_extension": ".py",
   "mimetype": "text/x-python",
   "name": "python",
   "nbconvert_exporter": "python",
   "pygments_lexer": "ipython3",
   "version": "3.12.3"
  }
 },
 "nbformat": 4,
 "nbformat_minor": 1
}
